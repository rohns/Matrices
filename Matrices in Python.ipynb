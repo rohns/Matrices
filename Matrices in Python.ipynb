{
 "cells": [
  {
   "cell_type": "markdown",
   "metadata": {},
   "source": [
    "# Programming Assignment - 4\n",
    "---\n",
    "## Name: John Ngugi Mwangi\n"
   ]
  },
  {
   "cell_type": "code",
   "execution_count": 1,
   "metadata": {},
   "outputs": [],
   "source": [
    "# Import required packages\n",
    "import numpy as np"
   ]
  },
  {
   "cell_type": "code",
   "execution_count": 2,
   "metadata": {},
   "outputs": [],
   "source": [
    "# You can modify this code to answer the following\n",
    "'''\n",
    "Jacobi's iteration method for solving the system of equations Ax=b.\n",
    "p0 is the initialization for the iteration.\n",
    "'''\n",
    "def jacobi(A, b, p0, tol, maxIter=100):\n",
    "    n=len(A)\n",
    "    p = p0\n",
    "\n",
    "    for k in range(maxIter):\n",
    "        p_old = p.copy() # In python assignment is not the same as copy\n",
    "        \n",
    "        # Update every component of iterant p\n",
    "        for i in range(n):\n",
    "            sumi = b[i];\n",
    "            for j in range(n):\n",
    "                if i==j: # Diagonal elements are not included in Jacobi\n",
    "                    continue;\n",
    "                sumi = sumi - A[i,j] * p_old[j]\n",
    "            p[i] = sumi/A[i,i]\n",
    "                \n",
    "        rel_error = np.linalg.norm(p-p_old)/n\n",
    "        # print(\"Relative error in iteration\", k+1,\":\",rel_error)\n",
    "        if rel_error<tol:\n",
    "            print(\"TOLERANCE MET BEFORE MAX-ITERATION\")\n",
    "            break\n",
    "    return p;"
   ]
  },
  {
   "cell_type": "code",
   "execution_count": 3,
   "metadata": {},
   "outputs": [],
   "source": [
    "# Example System\n",
    "A = np.array([[10, -1, 2, 0],\n",
    "              [-1, 11, -1, 3],\n",
    "              [2, -1, 10, -1],\n",
    "              [0, 3, -1, 8]],dtype=float)\n",
    "b = np.array([6, 25, -11, 15],dtype=float)\n"
   ]
  },
  {
   "cell_type": "code",
   "execution_count": 4,
   "metadata": {
    "scrolled": true
   },
   "outputs": [
    {
     "name": "stdout",
     "output_type": "stream",
     "text": [
      "TOLERANCE MET BEFORE MAX-ITERATION\n",
      "The solution is:  [ 1.00000003  1.99999996 -0.99999997  0.99999995]\n"
     ]
    }
   ],
   "source": [
    "## What will happen if the followign code runs\n",
    "#x = jacobi(A,b, np.array([0,0,0,0]),0.00001, 100)\n",
    "\n",
    "x = jacobi(A,b, np.array([0,0,0,0],dtype=float),0.0000001, 100)\n",
    "print(\"The solution is: \",x)"
   ]
  },
  {
   "cell_type": "markdown",
   "metadata": {},
   "source": [
    ">- (A) Implement the Gauss-Siedel Iteration in Python.  Solve the following system by using this method. Exact answer is (1,2,-1,1). Stopping criteria could be a relative $error < 0.00001$.\n",
    "$$\n",
    "\\begin{pmatrix}\n",
    "10 & -1  & 2  & 0  \\\\\n",
    "-1 & 11&-1 & 3 \\\\\n",
    "2 & -1  & 10  & -1 \\\\\n",
    "0 & 3 & -1 & 8  \n",
    "\\end{pmatrix}\n",
    "\\begin{pmatrix}\n",
    "x_1\\\\x_2\\\\x_3\\\\x_4 \n",
    "\\end{pmatrix}\n",
    "=\n",
    "\\begin{pmatrix}\n",
    "6\\\\25\\\\-11\\\\15\n",
    "\\end{pmatrix}\n",
    "$$\n"
   ]
  },
  {
   "cell_type": "code",
   "execution_count": 5,
   "metadata": {
    "scrolled": true
   },
   "outputs": [
    {
     "name": "stdout",
     "output_type": "stream",
     "text": [
      "TOLERANCE MET BEFORE MAX-ITERATION\n",
      "The solution is:  [ 0.99999999  2.00000001 -1.          0.99999999]\n"
     ]
    }
   ],
   "source": [
    "def siedel(A, b, p0, tol, maxIter=100):\n",
    "    n=len(A)\n",
    "    p = p0\n",
    "    L = np.tril(A)\n",
    "    U = A-L\n",
    "\n",
    "    for k in range(maxIter):\n",
    "        p_old = p.copy() # In python assignment is not the same as copy\n",
    "        \n",
    "        # Update every component of iterant p\n",
    "        for i in range(n):\n",
    "            p=np.dot(np.linalg.inv(L),b-np.dot(U,x))    \n",
    "        rel_error = np.linalg.norm(p-p_old)/n\n",
    "        # print(\"Relative error in iteration\", k+1,\":\",rel_error)\n",
    "        if rel_error<tol:\n",
    "            print(\"TOLERANCE MET BEFORE MAX-ITERATION\")\n",
    "            break\n",
    "    return p;\n",
    "\n",
    "#examples\n",
    "A = np.array([[10, -1, 2, 0],\n",
    "              [-1, 11, -1, 3],\n",
    "              [2, -1, 10, -1],\n",
    "              [0, 3, -1, 8]],dtype=float)\n",
    "b = np.array([6, 25, -11, 15],dtype=float)\n",
    "\n",
    "x = siedel(A,b, np.array([0,0,0,0],dtype=float),0.00001, 100)\n",
    "print(\"The solution is: \",x)"
   ]
  },
  {
   "cell_type": "markdown",
   "metadata": {},
   "source": [
    ">- (B) Implement Successive Over-relaxation in Python and solve the above problem again with $\\omega=1.5$."
   ]
  },
  {
   "cell_type": "code",
   "execution_count": 6,
   "metadata": {},
   "outputs": [
    {
     "name": "stdout",
     "output_type": "stream",
     "text": [
      "TOLERANCE MET BEFORE MAX-ITERATION\n",
      "The solution is:  [ 1.00000067  2.00000002 -1.00000021  0.99999996]\n"
     ]
    }
   ],
   "source": [
    "A = np.array([[10, -1, 2, 0],\n",
    "              [-1, 11, -1, 3],\n",
    "              [2, -1, 10, -1],\n",
    "              [0, 3, -1, 8]],dtype=float)\n",
    "b = np.array([6, 25, -11, 15],dtype=float)\n",
    "\n",
    "x0 = np.array([0,0,0,0],dtype=float)\n",
    "\n",
    "tol =  0.00001\n",
    "max_iter = 20\n",
    "w = 1.5\n",
    "\n",
    "def SOR(A, b, x0, tol, max_iter, w): \n",
    "    if (w<=1 or w>2): \n",
    "        print('w should be inside [1, 2)'); \n",
    "        step = -1; \n",
    "        x = float('nan') \n",
    "        return \n",
    "    n = b.shape \n",
    "    x = x0 \n",
    "\n",
    "    for step in range (1, max_iter): \n",
    "        for i in range(n[0]): \n",
    "            new_values_sum = np.dot(A[i, :i], x[:i])\n",
    "            old_values_sum = np.dot(A[i, i+1 :], x0[ i+1: ]) \n",
    "            x[i] = (b[i] - (old_values_sum + new_values_sum)) / A[i, i] \n",
    "            x[i] = np.dot(x[i], w) + np.dot(x0[i], (1 - w))  \n",
    "        #if (np.linalg.norm(x - x0) < tol): \n",
    "        if (np.linalg.norm(np.dot(A, x)-b ) < tol):\n",
    "            print(\"TOLERANCE MET BEFORE MAX-ITERATION\") \n",
    "            break \n",
    "        x0 = x\n",
    "    return x\n",
    "x = SOR(A, b, x0, tol, max_iter, w)\n",
    "print(\"The solution is: \",x)"
   ]
  }
 ],
 "metadata": {
  "kernelspec": {
   "display_name": "Python 3 (ipykernel)",
   "language": "python",
   "name": "python3"
  },
  "language_info": {
   "codemirror_mode": {
    "name": "ipython",
    "version": 3
   },
   "file_extension": ".py",
   "mimetype": "text/x-python",
   "name": "python",
   "nbconvert_exporter": "python",
   "pygments_lexer": "ipython3",
   "version": "3.9.12"
  }
 },
 "nbformat": 4,
 "nbformat_minor": 4
}
